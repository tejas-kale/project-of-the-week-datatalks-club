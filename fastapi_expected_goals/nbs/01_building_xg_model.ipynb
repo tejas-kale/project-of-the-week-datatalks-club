{
 "cells": [
  {
   "cell_type": "markdown",
   "metadata": {},
   "source": [
    "# Building an Expected Goals Model\n",
    "\n",
    "In this notebook, we will create a model for computing the probability of a shot being a goal. This probability is referred to as *Expected Goals* (xG) and it is a popular metric in football today to understand how good a team is at creating chances.\n",
    "\n",
    "Based on the videos by [Prof. David Sumpter](https://uppsala.instructure.com/courses/28112/pages/2-statistical-models-of-actions), we will fit a *Logistic Regression* model to estimate xG. This model will have two input variables - distance of a shot from goal and angle of the shot to the width of the goal. To fit the model, we will use [event data](https://github.com/statsbomb/open-data) from La Liga (Spanish league) matches provided by Statsbomb.\n",
    "\n",
    "## Imports\n",
    "\n",
    "To load and inspect this data, we will need the `json` and `pandas` packages. We will need `numpy` for intermediate transformations and `statsmodels` for fitting the Logistic Regression model."
   ]
  },
  {
   "cell_type": "code",
   "execution_count": null,
   "metadata": {},
   "outputs": [],
   "source": [
    "import json\n",
    "import os\n",
    "import pickle\n",
    "from typing import List, Optional\n",
    "\n",
    "import numpy as np\n",
    "import pandas as pd\n",
    "import statsmodels.api as sm\n",
    "import statsmodels.formula.api as smf\n",
    "from mplsoccer import Standardizer\n",
    "from sklearn.metrics import mean_absolute_error"
   ]
  },
  {
   "cell_type": "markdown",
   "metadata": {},
   "source": [
    "## Data\n",
    "\n",
    "We have already downloaded the data and placed it in `../data/statsbomb/data` directory. Event data is available per match in a JSON file. So, in order to fetch data for all available La Liga matches, we first need to get the competition ID of La Liga. Let us do so by loading `competitions.json` and inspecting it."
   ]
  },
  {
   "cell_type": "code",
   "execution_count": null,
   "metadata": {},
   "outputs": [],
   "source": [
    "competitions_fn: str = \"../data/statsbomb/data/competitions.json\"\n",
    "with open(competitions_fn, \"r\") as f:\n",
    "    competitions: pd.DataFrame = pd.read_json(f)\n",
    "competitions"
   ]
  },
  {
   "cell_type": "markdown",
   "metadata": {},
   "source": [
    "We see that La Liga has the ID `11`. Let us now load the list of La Liga matches for which event data is available. In `./data/statsbomb/data/matches/11/`, we have one JSON file for every La Liga season. Each of the JSON files provides basic information about all matches in that season. We are interested in getting the ID of each match so that we can load event data for that match from `./data/statsbomb/data/events`. So, let us write function to get IDs of all matches for which we want to get event data."
   ]
  },
  {
   "cell_type": "code",
   "execution_count": null,
   "metadata": {},
   "outputs": [],
   "source": [
    "def get_competition_match_ids(comp_id: int, data_dir: str = \"../data/statsbomb/data/\") -> list:\n",
    "    \"\"\"\n",
    "    Get IDs of matches from all seasons of a competition e.g. La Liga.\n",
    "    :param comp_id:  Competition ID from one of those provided in `competitions.json`\n",
    "    :param data_dir: Path to directory containing `competitions.json` and `matches` directory\n",
    "    from Statsbomb open data.\n",
    "    :return: List of match IDs for all seasons.\n",
    "    \"\"\"\n",
    "    comp_dir: str = os.path.join(data_dir, \"matches\", str(comp_id))\n",
    "    season_fns: list = os.listdir(comp_dir)\n",
    "    season_fn: str\n",
    "    match: dict\n",
    "    match_ids: list = []\n",
    "    for season_fn in season_fns:\n",
    "        with open(os.path.join(comp_dir, season_fn), \"r\") as jf:\n",
    "            matches: list = json.load(jf)\n",
    "\n",
    "        for match in matches:\n",
    "            match_ids.append(match[\"match_id\"])\n",
    "\n",
    "    return match_ids"
   ]
  },
  {
   "cell_type": "code",
   "execution_count": null,
   "metadata": {},
   "outputs": [],
   "source": [
    "required_match_ids: list = get_competition_match_ids(11)"
   ]
  },
  {
   "cell_type": "markdown",
   "metadata": {},
   "source": [
    "Let us write a quick test for our function. Let us pick one match ID at random from the following files:\n",
    "- `1.json`\n",
    "- `27.json`\n",
    "- `42.json`\n",
    "\n",
    "and verify that our list contains these IDs."
   ]
  },
  {
   "cell_type": "code",
   "execution_count": null,
   "metadata": {},
   "outputs": [],
   "source": [
    "assert 9609 in required_match_ids\n",
    "assert 266166 in required_match_ids\n",
    "assert 303532 in required_match_ids"
   ]
  },
  {
   "cell_type": "markdown",
   "metadata": {},
   "source": [
    "Having fetched the match IDs, let us now incrementally load events from them. For our first model, let us only consider shots to goal from open play. To do so, we use our learnings from the [previous exploratory notebook](./00_loading_investigating_world_cup_data.ipynb)."
   ]
  },
  {
   "cell_type": "code",
   "execution_count": null,
   "metadata": {},
   "outputs": [],
   "source": [
    "def load_match_events(match_id: int, data_dir: str = \"../data/statsbomb/data/events\") -> List[dict]:\n",
    "    \"\"\"\n",
    "    Load event data of a match.\n",
    "    :param match_id: ID of the match which matches the name of the JSON file from which\n",
    "    to load events\n",
    "    :param data_dir: Path to the `events` directory of Statsbomb open data.\n",
    "    :return: A list of dictionaries with each dictionary denoting an event i.e. on-ball action.\n",
    "    \"\"\"\n",
    "    with open(os.path.join(data_dir, f\"{match_id}.json\"), \"r\") as jf:\n",
    "        return json.load(jf)\n",
    "\n",
    "def frame_events(e: list, match_id: int) -> pd.DataFrame:\n",
    "    \"\"\"\n",
    "    Convert a list of on-ball match events to a Pandas dataframe.\n",
    "    :param e:        List of dictionaries with each dictionary denoting an event.\n",
    "    :param match_id: ID of the match whose events are transformed.\n",
    "    :return: Pandas dataframe of events.\n",
    "    \"\"\"\n",
    "    return (pd.json_normalize(e, sep=\"_\")\n",
    "            .assign(match_id=match_id))\n",
    "\n",
    "def filter_events(e: pd.DataFrame, event_type: str, event_type_filter: Optional[dict] = None) -> pd.DataFrame:\n",
    "    \"\"\"\n",
    "    Filter events to include the specified actions. Supported event types are\n",
    "    one of `[\"Shot\", \"Pass\"]`. Further filters are supplied as key-value pairs\n",
    "    with the key of the dictionary interpreted as the column name and the\n",
    "    dictionary value as the value in the column that will be searched for.\n",
    "    :param e:                 Dataframe of on-ball match events.\n",
    "    :param event_type:        Type of events to filter out. Supported values are one\n",
    "    of `[\"Shot\", \"Pass\"]`.\n",
    "    :param event_type_filter: A dictionary specifying filters specific to the event\n",
    "    specified.\n",
    "    :return: A Pandas dataframe of events of the specified type.\n",
    "    \"\"\"\n",
    "    if not event_type_filter:\n",
    "        event_type_filter = {}\n",
    "\n",
    "    required_event: pd.DataFrame = e.loc[e[\"type_name\"] == event_type].set_index(\"id\")\n",
    "    col: str\n",
    "    val: str\n",
    "    for col, val in event_type_filter.items():\n",
    "        required_event = required_event.loc[required_event[col] == val]\n",
    "\n",
    "    return required_event\n",
    "\n",
    "m_id: int\n",
    "match_wise_shots: list = []\n",
    "for m_id in required_match_ids:\n",
    "    match_events: list = load_match_events(m_id)\n",
    "    events: pd.DataFrame = frame_events(match_events, m_id)\n",
    "    match_shots: pd.DataFrame = filter_events(events, \"Shot\", {\"shot_type_name\": \"Open Play\"})\n",
    "    match_wise_shots.append(match_shots)\n",
    "\n",
    "la_liga_shots: pd.DataFrame = pd.concat(match_wise_shots)\n",
    "la_liga_shots"
   ]
  },
  {
   "cell_type": "markdown",
   "metadata": {},
   "source": [
    "## Baseline model\n",
    "\n",
    "Let us now construct a baseline Logistic Regression model. To do so, we require the following information:\n",
    "- X and Y coordinates from where the shot was taken\n",
    "- Whether the shot resulted in a goal\n",
    "\n",
    "From the X and Y coordinates, we will next create two more columns - one to compute the distance of the shot from goal and the other to compute the angle of the shot to the goal.\n",
    "\n",
    "Looking at the data above, we see a column named `shot_statsbomb_xg`. We can use this column as a reference for our model results, but we won't consider those values to be the ground truth.\n",
    "\n",
    "The X and Y coordinates are available as a list in the `location` column. We will need to extract them and put them in separate columns. The column `shot_outcome_id` tells us the outcome of the shot. Based on page 20 of the document `./data/statsbomb/doc/Open Data Events v4.0.0.pdf`, we can see that shots with `shot_outcome_id = 97` are goals while the others are not. So, we need to construct a boolean column from it accordingly. Let us define a function that will perform these steps.\n",
    "\n",
    "In addition, the [tutorial](https://www.youtube.com/watch?v=wHOgINJ5g54) we follow for building this model uses Wyscout data and the two data providers measure the pitch and thus record shot coordinates in different units. As we will use the logic used for Wyscout data to compute shot distance and angle, we make use of the `Standardizer` class of `mplsoccer` package to transform our coordinates from Statsbomb to Wyscout units."
   ]
  },
  {
   "cell_type": "code",
   "execution_count": null,
   "metadata": {},
   "outputs": [],
   "source": [
    "def create_shot_modelling_data(df: pd.DataFrame) -> pd.DataFrame:\n",
    "    \"\"\"\n",
    "    Transform event data of shots for modelling. This includes:\n",
    "    - Splitting the `location` column into two - one for representing X coordinate and the other Y.\n",
    "    - Converting the coordinate values to Wyscout units as further computations assume\n",
    "    the coordinates to be in Wyscout units.\n",
    "    - Creating a boolean column representing if the shot resulted in a goal (1) or not (0).\n",
    "    - Dropping all column except the coordinates, boolean indicator of goal, and Statsbomb's xG value.\n",
    "    - Renaming Statsbomb's xG value column.\n",
    "    :param df: Pandas dataframe of event data for shots.\n",
    "    :return: A Pandas dataframe with columns - X and Y coordinate of the shot, boolean indicator of goal,\n",
    "    and Statsbomb's xG.\n",
    "    \"\"\"\n",
    "    statsbomb_to_wyscout = Standardizer(pitch_from=\"statsbomb\", pitch_to=\"wyscout\")\n",
    "    return (df.assign(X=lambda x: [l[0] for l in x[\"location\"]])\n",
    "            .assign(Y=lambda x: [l[1] for l in x[\"location\"]])\n",
    "            .assign(X=lambda x: [round(statsbomb_to_wyscout.transform([xi], [yi])[0][0], 2)\n",
    "                                 for xi, yi in zip(x[\"X\"], x[\"Y\"])])\n",
    "            .assign(Y=lambda x: [round(statsbomb_to_wyscout.transform([xi], [yi])[1][0], 2)\n",
    "                                 for xi, yi in zip(x[\"X\"], x[\"Y\"])])\n",
    "            .assign(is_goal=lambda x: (x[\"shot_outcome_id\"] == 97).astype(int))\n",
    "            .filter([\"X\", \"Y\", \"is_goal\", \"shot_statsbomb_xg\"], axis=1)\n",
    "            .rename(columns={\"shot_statsbomb_xg\": \"statsbomb_xg\"}))\n",
    "\n",
    "la_liga_shots_model_data: pd.DataFrame = create_shot_modelling_data(la_liga_shots)\n",
    "la_liga_shots_model_data"
   ]
  },
  {
   "cell_type": "markdown",
   "metadata": {},
   "source": [
    "Let us now compute shot distance and angle."
   ]
  },
  {
   "cell_type": "code",
   "execution_count": null,
   "metadata": {},
   "outputs": [],
   "source": [
    "def transform_coordinates_for_computation(x: float, y: float) -> (float, float):\n",
    "    \"\"\"\n",
    "    Question: What does this transformation do?\n",
    "    :param x: X coordinate of the shot taken.\n",
    "    :param y: Y coordinate of the shot taken\n",
    "    :return: Tuple of transformed X, Y coordinates.\n",
    "    \"\"\"\n",
    "    m_x: float = 100 - x\n",
    "    c: float = abs(y - 50)\n",
    "\n",
    "    return (m_x * 105) / 100, (c * 65) / 100\n",
    "\n",
    "def compute_shot_distance(x: float, y: float) -> float:\n",
    "    \"\"\"\n",
    "    Computes distance of a shot from goal.\n",
    "    :param x: X coordinate of the shot taken.\n",
    "    :param y: Y coordinate of the shot taken.\n",
    "    :return: Float denoting distance (in meters) of the shot from goal.\n",
    "    \"\"\"\n",
    "    t_x: float\n",
    "    t_y: float\n",
    "    t_x, t_y = transform_coordinates_for_computation(x, y)\n",
    "\n",
    "    return np.sqrt(t_x ** 2 + t_y ** 2)\n",
    "\n",
    "def compute_shot_angle(x: float, y: float) -> float:\n",
    "    \"\"\"\n",
    "    Computes the angle of the shot to the width of the goal post.\n",
    "    :param x: X coordinate of the shot taken.\n",
    "    :param y: Y coordinate of the shot taken\n",
    "    :return: Float denoting the angle (in radians) of the shot.\n",
    "    \"\"\"\n",
    "    t_x: float\n",
    "    t_y: float\n",
    "    t_x, t_y = transform_coordinates_for_computation(x, y)\n",
    "\n",
    "    angle: float = np.arctan((7.32 * t_x) / (t_x ** 2 + t_y ** 2 - (7.32 / 2) ** 2))\n",
    "    if angle < 0:\n",
    "        angle = np.pi + angle\n",
    "\n",
    "    return angle\n",
    "\n",
    "la_liga_xg_model_data: pd.DataFrame = (la_liga_shots_model_data\n",
    "                                       .assign(dist=lambda x: [compute_shot_distance(xc, yc)\n",
    "                                                               for xc, yc in zip(x[\"X\"], x[\"Y\"])])\n",
    "                                       .assign(angle=lambda x: [compute_shot_angle(xc, yc)\n",
    "                                                                for xc, yc in zip(x[\"X\"], x[\"Y\"])]))\n",
    "la_liga_xg_model_data"
   ]
  },
  {
   "cell_type": "markdown",
   "metadata": {},
   "source": [
    "Let us now fit a Logistic Regression model using statsmodel's `glm()` method. As our output is binary, we specify the `family` argument to be `sm.families.Binomial()`. After fitting the model, let us print a summary of the model."
   ]
  },
  {
   "cell_type": "code",
   "execution_count": null,
   "metadata": {},
   "outputs": [],
   "source": [
    "baseline_model = smf.glm(formula=\"is_goal ~ dist + angle\", data=la_liga_xg_model_data,\n",
    "                         family=sm.families.Binomial()).fit()\n",
    "baseline_model.summary()"
   ]
  },
  {
   "cell_type": "markdown",
   "metadata": {},
   "source": [
    "Looking at the model summary above, in particular the last table, we see that the probability of a shot becoming a goal decreases with increasing distance. We say this based on the negative value of the coefficient. Similarly, as the shot angle increases, i.e. as the shot is taken from between the goal posts, the probability of hitting the back of the net also increases. The near-zero P-values of both the coefficients suggest that we have sufficient evidence to reject the null hypothesis that the true coefficient value is zero.\n",
    "\n",
    "Let us now save the model parameters in a `.pkl` file."
   ]
  },
  {
   "cell_type": "code",
   "execution_count": null,
   "metadata": {},
   "outputs": [],
   "source": [
    "def save_model(params: pd.Series, model_fn: str, model_dir: str = \"../models\"):\n",
    "    \"\"\"\n",
    "    Save parameters of Logistic Regression to a pickle file.\n",
    "    :param params:    A Pandas Series of Logistic Regression parameters.\n",
    "    :param model_fn:  Name of pickle file (with extension) to save the parameters to.\n",
    "    :param model_dir: Directory to save the model to.\n",
    "    \"\"\"\n",
    "    with open(os.path.join(model_dir, model_fn), \"wb\") as pf:\n",
    "        pickle.dump(params, pf)\n",
    "\n",
    "baseline_model_params: pd.Series = baseline_model.params\n",
    "baseline_model_fn: str = \"baseline_logistic_model.pkl\"\n",
    "save_model(baseline_model_params, baseline_model_fn)"
   ]
  },
  {
   "cell_type": "markdown",
   "metadata": {},
   "source": [
    "## Serving the model\n",
    "\n",
    "Let us now define a function that loads the parameters from a pickle file and computes the xG value."
   ]
  },
  {
   "cell_type": "code",
   "execution_count": null,
   "metadata": {},
   "outputs": [],
   "source": [
    "def compute_xg(xc: float, yc: float, model_fn: str, model_dir: str = \"../models\") -> float:\n",
    "    \"\"\"\n",
    "    Compute the xG of a shot given the (X, Y) coordinates of where it was taken from.\n",
    "    :param xc:        X-coordinate of where the shot was taken from.\n",
    "    :param yc:        Y-coordinate of where the shot was taken from.\n",
    "    :param model_fn:  Name of the file containing Logistic Regression parameters.\n",
    "    :param model_dir: Directory containing the model file.\n",
    "    :return: A float representing xG value.\n",
    "    \"\"\"\n",
    "    shot_dist: float = compute_shot_distance(xc, yc)\n",
    "    shot_ang: float = compute_shot_angle(xc, yc)\n",
    "\n",
    "    with open(os.path.join(model_dir, model_fn), \"rb\") as pf:\n",
    "        model_params: pd.Series = pickle.load(pf)\n",
    "\n",
    "    linear_sum: float = (model_params[\"Intercept\"]\n",
    "                         + (shot_dist * model_params[\"dist\"])\n",
    "                         + (shot_ang * model_params[\"angle\"]))\n",
    "\n",
    "    return 1 / (1 + np.exp(-1 * linear_sum))\n",
    "\n",
    "la_liga_xg_model_data = (la_liga_xg_model_data\n",
    "                         .assign(xg=lambda x: [compute_xg(xi, yi, baseline_model_fn) for xi, yi in zip(x[\"X\"], x[\"Y\"])]))\n",
    "la_liga_xg_model_data"
   ]
  },
  {
   "cell_type": "markdown",
   "metadata": {},
   "source": [
    "From the dataframe above, we see that our computed xG differs from the Statsbomb one. If we were to measure the difference in absolute terms, we see that the two xG values differ by about 7%."
   ]
  },
  {
   "cell_type": "code",
   "execution_count": null,
   "metadata": {},
   "outputs": [],
   "source": [
    "mean_absolute_error(la_liga_xg_model_data[\"statsbomb_xg\"], la_liga_xg_model_data[\"xg\"])"
   ]
  },
  {
   "cell_type": "markdown",
   "metadata": {},
   "source": [
    "## Improvements\n",
    "\n",
    "If we look at the documentation of event information in `./data/statsbomb/doc/Open Data Events v4.0.0.pdf`, we can spot additional parameters that might improve the model. These include:\n",
    "- Freeze-frame which tells us about the opposition players in the vicinity when a shot was taken. This can be an important variable as more players around means more pressure on the player which in turn can lead to a false shot.\n",
    "- Open goal which tells us if the shot was taken in front of an open goal.\n",
    "- Deflected which tells us if the shot was deflected.\n",
    "- Technique whose values can be one of Backheel, Diving header, Half volley, Lob, Normal, Overhead kick, or volley.\n",
    "- Body part which indicates if the shot was taken with the head, left foot, right foot, or other body part. This variable combined with information about which foot a player prefers can be useful in predicting if a shot will turn into a goal.\n",
    "\n",
    "In his video [The Ultimate Guide to Expected Goals](https://www.youtube.com/watch?v=310_eW0hUqQ), Prof. Sumpter asserts that given the right variables, models more complex than Logistic Regression might not provide much better performance. Thus, improvements to the model can focus on adding more variables first and evaluating if they contribute to the model fit before experimenting with other models."
   ]
  },
  {
   "cell_type": "code",
   "execution_count": null,
   "metadata": {},
   "outputs": [],
   "source": []
  }
 ],
 "metadata": {
  "kernelspec": {
   "display_name": "Python 3",
   "language": "python",
   "name": "python3"
  },
  "language_info": {
   "codemirror_mode": {
    "name": "ipython",
    "version": 2
   },
   "file_extension": ".py",
   "mimetype": "text/x-python",
   "name": "python",
   "nbconvert_exporter": "python",
   "pygments_lexer": "ipython2"
  }
 },
 "nbformat": 4,
 "nbformat_minor": 0
}
