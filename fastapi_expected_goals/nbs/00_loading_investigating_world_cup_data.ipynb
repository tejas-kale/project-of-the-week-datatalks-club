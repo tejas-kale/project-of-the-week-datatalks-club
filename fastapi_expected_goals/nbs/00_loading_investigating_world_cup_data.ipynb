{
 "cells": [
  {
   "cell_type": "markdown",
   "metadata": {},
   "source": [
    "# Loading and Investigating World Cup Data\n",
    "\n",
    "In this notebook, we will understand how to load and inspect event data of Women's World Cup matches. We follow the Prof. David Sumpter's [video](https://www.youtube.com/watch?v=GTtuOt03FM0&ab_channel=FriendsofTracking) for understanding how to download the data and inspect it using Python. During the course of this notebook, we will assume that both Statsbomb and Wyscout data is available in the `data` directory. URLs to download the data are provided in the *References* section.\n",
    "\n",
    "The event data is provided in JSON files, so we need to import the `json` package to load these files. We will need `matplotlib` to plot the data and `numpy` to transform the data."
   ]
  },
  {
   "cell_type": "code",
   "execution_count": null,
   "metadata": {},
   "outputs": [],
   "source": [
    "import json\n",
    "from typing import Union\n",
    "\n",
    "import matplotlib.pyplot as plt\n",
    "import numpy as np\n",
    "import pandas as pd\n",
    "\n",
    "from plot_utils import create_pitch"
   ]
  },
  {
   "cell_type": "markdown",
   "metadata": {},
   "source": [
    "## Load data\n",
    "\n",
    "First, we will use the Statsbomb data. Let us load information about the competitions for which data is available."
   ]
  },
  {
   "cell_type": "code",
   "execution_count": null,
   "metadata": {},
   "outputs": [],
   "source": [
    "with open(\"../data/statsbomb/data/competitions.json\", \"r\") as f:\n",
    "    competitions: list = json.load(f)"
   ]
  },
  {
   "cell_type": "markdown",
   "metadata": {},
   "source": [
    "We have a list of 19 competitions covered in the Statsbomb data. Let us look at the information of the first competition."
   ]
  },
  {
   "cell_type": "code",
   "execution_count": null,
   "metadata": {},
   "outputs": [],
   "source": [
    "competitions[2]"
   ]
  },
  {
   "cell_type": "markdown",
   "metadata": {},
   "source": [
    "In this notebook, we want to inspect data for the 2019 Women's World Cup. Its competition ID is `72`."
   ]
  },
  {
   "cell_type": "code",
   "execution_count": null,
   "metadata": {},
   "outputs": [],
   "source": [
    "[competition for competition in competitions if competition[\"competition_id\"] == 49]"
   ]
  },
  {
   "cell_type": "code",
   "execution_count": null,
   "metadata": {},
   "outputs": [],
   "source": [
    "competition_id: int = 72"
   ]
  },
  {
   "cell_type": "markdown",
   "metadata": {},
   "source": [
    "Let us load information about all matches from the competition."
   ]
  },
  {
   "cell_type": "code",
   "execution_count": null,
   "metadata": {},
   "outputs": [],
   "source": [
    "with open(f\"../data/statsbomb/data/matches/{competition_id}/30.json\", \"r\") as f:\n",
    "    matches: list = json.load(f)"
   ]
  },
  {
   "cell_type": "markdown",
   "metadata": {},
   "source": [
    "There were 52 matches played during the World Cup."
   ]
  },
  {
   "cell_type": "code",
   "execution_count": null,
   "metadata": {},
   "outputs": [],
   "source": [
    "len(matches)"
   ]
  },
  {
   "cell_type": "markdown",
   "metadata": {},
   "source": [
    "Let us now print the result of every match in the World Cup. It will help us understand the structure of match result.\n",
    "\n",
    "While it would be better for readability to get `match[\"home_team\"][\"country\"][\"name\"]`, the event data that we want to analyse specifies `match[\"home_team\"][\"home_team_name\"]` for every event. The same applies for the away team as well."
   ]
  },
  {
   "cell_type": "code",
   "execution_count": null,
   "metadata": {},
   "outputs": [],
   "source": [
    "match: dict\n",
    "for match in matches:\n",
    "    home_team_name: str = match[\"home_team\"][\"home_team_name\"]\n",
    "    away_team_name: str = match[\"away_team\"][\"away_team_name\"]\n",
    "    home_score: int = match[\"home_score\"]\n",
    "    away_score: int = match[\"away_score\"]\n",
    "    print(f\"The match between {home_team_name} and {away_team_name} finished {home_score}-{away_score}\")"
   ]
  },
  {
   "cell_type": "markdown",
   "metadata": {},
   "source": [
    "Let us consider the final of the World Cup between the USA and Netherlands and find its match ID."
   ]
  },
  {
   "cell_type": "code",
   "execution_count": null,
   "metadata": {},
   "outputs": [],
   "source": [
    "required_home_team: str = \"United States Women's\"\n",
    "required_away_team: str = \"Netherlands Women's\""
   ]
  },
  {
   "cell_type": "code",
   "execution_count": null,
   "metadata": {},
   "outputs": [],
   "source": [
    "required_match_id: Union[int, str] = \"Not found\"\n",
    "for match in matches:\n",
    "    home_team_name: str = match[\"home_team\"][\"home_team_name\"]\n",
    "    away_team_name: str = match[\"away_team\"][\"away_team_name\"]\n",
    "    if (home_team_name == required_home_team) and (away_team_name == required_away_team):\n",
    "        required_match_id: int = match[\"match_id\"]\n",
    "\n",
    "print(f\"{required_home_team} vs {required_away_team} has ID: {required_match_id}\")"
   ]
  },
  {
   "cell_type": "markdown",
   "metadata": {},
   "source": [
    "Let us now load the event data for this match based on its ID."
   ]
  },
  {
   "cell_type": "code",
   "execution_count": null,
   "metadata": {},
   "outputs": [],
   "source": [
    "with open(f\"../data/statsbomb/data/events/{required_match_id}.json\", \"r\") as f:\n",
    "    match_events: list = json.load(f)"
   ]
  },
  {
   "cell_type": "markdown",
   "metadata": {},
   "source": [
    "This is the event data that we can use for various purposes like creating different kinds of plot and building models like expected goals. The first part of this data contains information about lineups and formations. After that, all information about events that happened on the ball are captured. It includes passes, interceptions, shots, and other on-ball events. For a pass, the start and end coordinate (X, Y) are noted. For a shot, the (X, Y) coordinate from where the shot is taken is recorded as well as where the shot landed up (inside or outside the frame of the goal).\n",
    "\n",
    "Let us transform this data into a Pandas dataframe so that it is easier to inspect."
   ]
  },
  {
   "cell_type": "code",
   "execution_count": null,
   "metadata": {},
   "outputs": [],
   "source": [
    "events: pd.DataFrame = (pd.json_normalize(match_events, sep=\"_\")\n",
    "                        .assign(match_id=required_match_id))\n",
    "events.head()"
   ]
  },
  {
   "cell_type": "markdown",
   "metadata": {},
   "source": [
    "This is a large dataframe with 117 columns! Let us filter it to only include data about shots."
   ]
  },
  {
   "cell_type": "code",
   "execution_count": null,
   "metadata": {},
   "outputs": [],
   "source": [
    "shots: pd.DataFrame = events.loc[events[\"type_name\"] == \"Shot\"].set_index(\"id\")\n",
    "shots.head()"
   ]
  },
  {
   "cell_type": "markdown",
   "metadata": {},
   "source": [
    "## Plot data\n",
    "\n",
    "As these are football events, we should ideally plot them on a pitch. Borrowing code from [SoccermaticsForPython](https://github.com/Friends-of-Tracking-Data-FoTD/SoccermaticsForPython/blob/master/FCPython.py), we can first plot the pitch using Matplotlib. The `create_pitch()` function defined in `plot_utils.py` generates the pitch, and it takes pitch length and width as input along with the units of those values. The event data provided by Statsbomb assumes the pitch to be measured in yards."
   ]
  },
  {
   "cell_type": "code",
   "execution_count": null,
   "metadata": {},
   "outputs": [],
   "source": [
    "pitch_length_x: int = 120  # yards\n",
    "pitch_width_y: int = 80  # yards"
   ]
  },
  {
   "cell_type": "code",
   "execution_count": null,
   "metadata": {},
   "outputs": [],
   "source": [
    "fig, ax = create_pitch(pitch_length_x, pitch_width_y, \"yards\", \"gray\")"
   ]
  },
  {
   "cell_type": "code",
   "execution_count": null,
   "metadata": {},
   "outputs": [],
   "source": [
    "i: int\n",
    "shot: dict\n",
    "for i, shot in shots.iterrows():\n",
    "    x: int = shot[\"location\"][0]\n",
    "    y: int = shot[\"location\"][1]\n",
    "\n",
    "    is_goal: bool = shot[\"shot_outcome_name\"] == \"Goal\"\n",
    "    team_name: str = shot[\"team_name\"]\n",
    "\n",
    "    circle_size: float = np.sqrt(shot[\"shot_statsbomb_xg\"] * 15)\n",
    "\n",
    "    if team_name == required_home_team:\n",
    "        shot_circle = plt.Circle((x, pitch_width_y - y), circle_size, color=\"red\")\n",
    "        if is_goal:\n",
    "            plt.text((x + 1), (pitch_width_y - y + 1), shot[\"player_name\"])\n",
    "        else:\n",
    "            shot_circle.set_alpha(0.2)\n",
    "    else:\n",
    "        shot_circle = plt.Circle((pitch_length_x - x, y), circle_size, color=\"blue\")\n",
    "        if is_goal:\n",
    "            plt.text((pitch_length_x - x + 1), (y + 1), shot[\"player_name\"])\n",
    "        else:\n",
    "            shot_circle.set_alpha(0.2)\n",
    "\n",
    "    ax.add_patch(shot_circle)\n",
    "\n",
    "plt.text(5, 75, f\"{required_away_team} shots\")\n",
    "plt.text(80, 75, f\"{required_home_team} shots\")\n",
    "\n",
    "# fig.set_size_inches(10, 7)\n",
    "# fig.savefig(\"results/shots.pdf\", dpi=100)\n",
    "plt.show()"
   ]
  },
  {
   "cell_type": "markdown",
   "metadata": {},
   "source": [
    "Let us now get the data for passes and plot the passes of *Megan Anna Rapinoe* of the USA. When plotting pass maps, it is advisable to plot the passes of one or two players instead of a team as the latter will just lead to a pitch full of arrows from which it will be difficult to derive any meaningful insights."
   ]
  },
  {
   "cell_type": "code",
   "execution_count": null,
   "metadata": {},
   "outputs": [],
   "source": [
    "required_player_name: str = \"Megan Anna Rapinoe\""
   ]
  },
  {
   "cell_type": "code",
   "execution_count": null,
   "metadata": {},
   "outputs": [],
   "source": [
    "passes: pd.DataFrame = events.loc[events[\"type_name\"] == \"Pass\"].set_index(\"id\")\n",
    "passes.head()"
   ]
  },
  {
   "cell_type": "code",
   "execution_count": null,
   "metadata": {},
   "outputs": [],
   "source": [
    "fig, ax = create_pitch(pitch_length_x, pitch_width_y, \"yards\", \"gray\")"
   ]
  },
  {
   "cell_type": "code",
   "execution_count": null,
   "metadata": {},
   "outputs": [],
   "source": [
    "a_pass: dict  # `pass` is a Python keyword so cannot be used as a variable.\n",
    "for i, a_pass in passes.iterrows():\n",
    "    if a_pass[\"player_name\"] != required_player_name:\n",
    "        continue\n",
    "\n",
    "    x: int = a_pass[\"location\"][0]\n",
    "    y: int = a_pass[\"location\"][1]\n",
    "\n",
    "    pass_circle = plt.Circle((x, pitch_width_y - y), 2, color=\"blue\")\n",
    "    pass_circle.set_alpha(0.2)\n",
    "\n",
    "    ax.add_patch(pass_circle)\n",
    "\n",
    "    dx: int = a_pass[\"pass_end_location\"][0] - x\n",
    "    dy: int = a_pass[\"pass_end_location\"][1] - y\n",
    "\n",
    "    pass_arrow = plt.Arrow(x, (pitch_width_y - y), dx, -dy, width=3, color=\"blue\")\n",
    "    ax.add_patch(pass_arrow)\n",
    "\n",
    "ax.set_title(f\"Passes played by {required_player_name}\")\n",
    "# fig.set_size_inches(10, 7)\n",
    "# fig.savefig(\"results/passes.pdf\", dpi=100)\n",
    "plt.show()"
   ]
  },
  {
   "cell_type": "markdown",
   "metadata": {},
   "source": [
    "## References\n",
    "- [Statsbomb event data](https://github.com/statsbomb/open-data)\n",
    "- [Wyscout event data](https://figshare.com/collections/Soccer_match_event_dataset/4415000/5)\n",
    "- [Loading in and investigating World Cup data in Python](https://www.youtube.com/watch?v=GTtuOt03FM0&ab_channel=FriendsofTracking)\n",
    "- [Making Your Own Shot and Pass Maps](https://www.youtube.com/watch?v=oOAnERLiN5U&ab_channel=FriendsofTracking)"
   ]
  },
  {
   "cell_type": "code",
   "execution_count": null,
   "metadata": {},
   "outputs": [],
   "source": []
  }
 ],
 "metadata": {
  "kernelspec": {
   "display_name": "Python 3",
   "language": "python",
   "name": "python3"
  },
  "language_info": {
   "codemirror_mode": {
    "name": "ipython",
    "version": 2
   },
   "file_extension": ".py",
   "mimetype": "text/x-python",
   "name": "python",
   "nbconvert_exporter": "python",
   "pygments_lexer": "ipython2"
  }
 },
 "nbformat": 4,
 "nbformat_minor": 0
}
