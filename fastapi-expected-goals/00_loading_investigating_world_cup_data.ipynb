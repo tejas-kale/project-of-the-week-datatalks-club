{
 "cells": [
  {
   "cell_type": "markdown",
   "source": [
    "# Loading and Investigating World Cup Data\n",
    "\n",
    "In this notebook, we will understand how to load and inspect event data of football World Cup matches. We follow the Prof. David Sumpter's [video](https://www.youtube.com/watch?v=GTtuOt03FM0&ab_channel=FriendsofTracking) for understanding how to download the data and inspect it using Python. During the course of this notebook, we will assume that both Statsbomb and Wyscout data is available in the `data` directory. URLs to download the data are provided in the *References* section.\n",
    "\n",
    "The event data is provided in JSON files, so we need to import the `json` package to load these files."
   ],
   "metadata": {
    "collapsed": false
   }
  },
  {
   "cell_type": "code",
   "execution_count": 1,
   "outputs": [],
   "source": [
    "import json"
   ],
   "metadata": {
    "collapsed": false
   }
  },
  {
   "cell_type": "markdown",
   "source": [
    "First, we will use the Statsbomb data. Let us load information about the competitions for which data is available."
   ],
   "metadata": {
    "collapsed": false
   }
  },
  {
   "cell_type": "code",
   "execution_count": 3,
   "outputs": [],
   "source": [
    "with open(\"./data/statsbomb/data/competitions.json\", \"r\") as f:\n",
    "    competitions: list = json.load(f)"
   ],
   "metadata": {
    "collapsed": false
   }
  },
  {
   "cell_type": "markdown",
   "source": [
    "We have a list of 19 competitions covered in the Statsbomb data. Let us look at the information of the first competition."
   ],
   "metadata": {
    "collapsed": false
   }
  },
  {
   "cell_type": "code",
   "execution_count": 5,
   "outputs": [
    {
     "data": {
      "text/plain": "{'competition_id': 16,\n 'season_id': 4,\n 'country_name': 'Europe',\n 'competition_name': 'Champions League',\n 'competition_gender': 'male',\n 'competition_youth': False,\n 'competition_international': False,\n 'season_name': '2018/2019',\n 'match_updated': '2022-08-14T16:57:15.866765',\n 'match_updated_360': '2021-06-13T16:17:31.694',\n 'match_available_360': None,\n 'match_available': '2022-08-14T16:57:15.866765'}"
     },
     "execution_count": 5,
     "metadata": {},
     "output_type": "execute_result"
    }
   ],
   "source": [
    "competitions[0]"
   ],
   "metadata": {
    "collapsed": false
   }
  },
  {
   "cell_type": "markdown",
   "source": [
    "In this notebook, we want to inspect data for the 2019 Women's World Cup. Its competition ID is `72`."
   ],
   "metadata": {
    "collapsed": false
   }
  },
  {
   "cell_type": "code",
   "execution_count": 6,
   "outputs": [],
   "source": [
    "competition_id: int = 72"
   ],
   "metadata": {
    "collapsed": false
   }
  },
  {
   "cell_type": "markdown",
   "source": [
    "Let us load information about all matches from the competition."
   ],
   "metadata": {
    "collapsed": false
   }
  },
  {
   "cell_type": "code",
   "execution_count": 12,
   "outputs": [],
   "source": [
    "with open(f\"./data/statsbomb/data/matches/{competition_id}/30.json\", \"r\") as f:\n",
    "    matches: list = json.load(f)"
   ],
   "metadata": {
    "collapsed": false
   }
  },
  {
   "cell_type": "markdown",
   "source": [
    "There were 52 matches played during the World Cup."
   ],
   "metadata": {
    "collapsed": false
   }
  },
  {
   "cell_type": "code",
   "execution_count": 13,
   "outputs": [
    {
     "data": {
      "text/plain": "52"
     },
     "execution_count": 13,
     "metadata": {},
     "output_type": "execute_result"
    }
   ],
   "source": [
    "len(matches)"
   ],
   "metadata": {
    "collapsed": false
   }
  },
  {
   "cell_type": "markdown",
   "source": [
    "Let us now print the result of every match in the World Cup. It will help us understand the structure of match result."
   ],
   "metadata": {
    "collapsed": false
   }
  },
  {
   "cell_type": "code",
   "execution_count": 16,
   "outputs": [
    {
     "name": "stdout",
     "output_type": "stream",
     "text": [
      "The match between Jamaica and Italy finished 0-5\n",
      "The match between Jamaica and Australia finished 1-4\n",
      "The match between Norway and Australia finished 1-1\n",
      "The match between Australia and Italy finished 1-2\n",
      "The match between Argentina and Japan finished 0-0\n",
      "The match between United States of America and Thailand finished 13-0\n",
      "The match between Chile and Sweden finished 0-2\n",
      "The match between Nigeria and Korea (South) finished 2-0\n",
      "The match between Germany and Spain finished 1-0\n",
      "The match between South Africa and China finished 0-1\n",
      "The match between Japan and Scotland finished 2-1\n",
      "The match between Netherlands and Cameroon finished 3-1\n",
      "The match between Canada and New Zealand finished 2-0\n",
      "The match between Netherlands and Canada finished 2-1\n",
      "The match between Sweden and United States of America finished 0-2\n",
      "The match between Sweden and Canada finished 1-0\n",
      "The match between Cameroon and New Zealand finished 2-1\n",
      "The match between Germany and Nigeria finished 3-0\n",
      "The match between England and Sweden finished 1-2\n",
      "The match between France and Brazil finished 2-1\n",
      "The match between Germany and Sweden finished 1-2\n",
      "The match between England and Scotland finished 2-1\n",
      "The match between Sweden and Thailand finished 5-1\n",
      "The match between Japan and England finished 0-2\n",
      "The match between Korea (South) and Norway finished 1-2\n",
      "The match between United States of America and Chile finished 3-0\n",
      "The match between Norway and Nigeria finished 3-0\n",
      "The match between United States of America and Netherlands finished 2-0\n",
      "The match between China and Spain finished 0-0\n",
      "The match between Italy and Brazil finished 0-1\n",
      "The match between France and Korea (South) finished 4-0\n",
      "The match between Germany and China finished 1-0\n",
      "The match between Spain and South Africa finished 3-1\n",
      "The match between Brazil and Jamaica finished 3-0\n",
      "The match between Canada and Cameroon finished 1-0\n",
      "The match between France and United States of America finished 1-2\n",
      "The match between New Zealand and Netherlands finished 0-1\n",
      "The match between France and Norway finished 2-1\n",
      "The match between Australia and Brazil finished 3-2\n",
      "The match between England and Argentina finished 1-0\n",
      "The match between Nigeria and France finished 0-1\n",
      "The match between South Africa and Germany finished 0-4\n",
      "The match between Scotland and Argentina finished 3-3\n",
      "The match between Thailand and Chile finished 0-2\n",
      "The match between England and Cameroon finished 3-0\n",
      "The match between Italy and China finished 2-0\n",
      "The match between Netherlands and Japan finished 2-1\n",
      "The match between Norway and England finished 0-3\n",
      "The match between England and United States of America finished 1-2\n",
      "The match between Netherlands and Sweden finished 1-0\n",
      "The match between Italy and Netherlands finished 0-2\n",
      "The match between Spain and United States of America finished 1-2\n"
     ]
    }
   ],
   "source": [
    "match: dict\n",
    "for match in matches:\n",
    "    home_team_name: str = match[\"home_team\"][\"country\"][\"name\"]\n",
    "    away_team_name: str = match[\"away_team\"][\"country\"][\"name\"]\n",
    "    home_score: int = match[\"home_score\"]\n",
    "    away_score: int = match[\"away_score\"]\n",
    "    print(f\"The match between {home_team_name} and {away_team_name} finished {home_score}-{away_score}\")"
   ],
   "metadata": {
    "collapsed": false
   }
  },
  {
   "cell_type": "markdown",
   "source": [
    "Let us consider the final of the World Cup between the USA and Netherlands and find its match ID."
   ],
   "metadata": {
    "collapsed": false
   }
  },
  {
   "cell_type": "code",
   "execution_count": 17,
   "outputs": [],
   "source": [
    "required_home_team: str = \"United States of America\"\n",
    "required_away_team: str = \"Netherlands\""
   ],
   "metadata": {
    "collapsed": false
   }
  },
  {
   "cell_type": "code",
   "execution_count": 21,
   "outputs": [
    {
     "name": "stdout",
     "output_type": "stream",
     "text": [
      "United States of America vs Netherlands has ID: 69321\n"
     ]
    }
   ],
   "source": [
    "for match in matches:\n",
    "    home_team_name: str = match[\"home_team\"][\"country\"][\"name\"]\n",
    "    away_team_name: str = match[\"away_team\"][\"country\"][\"name\"]\n",
    "    if (home_team_name == required_home_team) and (away_team_name == required_away_team):\n",
    "        required_match_id: int = match[\"match_id\"]\n",
    "\n",
    "print(f\"{required_home_team} vs {required_away_team} has ID: {required_match_id}\")"
   ],
   "metadata": {
    "collapsed": false
   }
  },
  {
   "cell_type": "markdown",
   "source": [
    "**To Be Continued...**"
   ],
   "metadata": {
    "collapsed": false
   }
  },
  {
   "cell_type": "code",
   "execution_count": null,
   "outputs": [],
   "source": [],
   "metadata": {
    "collapsed": false
   }
  },
  {
   "cell_type": "markdown",
   "source": [
    "## References\n",
    "- [Statsbomb event data](https://github.com/statsbomb/open-data)\n",
    "- [Wyscout event data](https://figshare.com/collections/Soccer_match_event_dataset/4415000/5)"
   ],
   "metadata": {
    "collapsed": false
   }
  },
  {
   "cell_type": "code",
   "execution_count": null,
   "outputs": [],
   "source": [],
   "metadata": {
    "collapsed": false
   }
  }
 ],
 "metadata": {
  "kernelspec": {
   "display_name": "Python 3",
   "language": "python",
   "name": "python3"
  },
  "language_info": {
   "codemirror_mode": {
    "name": "ipython",
    "version": 2
   },
   "file_extension": ".py",
   "mimetype": "text/x-python",
   "name": "python",
   "nbconvert_exporter": "python",
   "pygments_lexer": "ipython2",
   "version": "2.7.6"
  }
 },
 "nbformat": 4,
 "nbformat_minor": 0
}
